{
 "cells": [
  {
   "cell_type": "markdown",
   "id": "09c6ffa3",
   "metadata": {},
   "source": [
    "# MySQL Database"
   ]
  },
  {
   "cell_type": "markdown",
   "id": "b4c98846",
   "metadata": {},
   "source": [
    "**Goal:** Construct and export a MySQL database using your data."
   ]
  },
  {
   "cell_type": "markdown",
   "id": "53aed4c7",
   "metadata": {},
   "source": [
    "## Specifications - Database"
   ]
  },
  {
   "cell_type": "markdown",
   "id": "5390178d",
   "metadata": {},
   "source": [
    "Include the following tables in a new MySQL databse called \"movies\":\n",
    "\n",
    "1. title_basics\n",
    "    - Movie ID (tconst)\n",
    "    - Primary Title\n",
    "    - Start Year\n",
    "    - Runtime (minutes)\n",
    "    - Genres\n",
    "\n",
    "\n",
    "2. title_ratings\n",
    "    - Movie ID (tconst)\n",
    "    - Average movie rating\n",
    "    - Number of votes\n",
    "\n",
    "\n",
    "3. title_genres (joiner table)\n",
    "    - Movie ID (tconst)\n",
    "    - Genre ID\n",
    "\n",
    "4. genres\n",
    "    - Genre ID\n",
    "    - Genre name\n",
    "\n",
    "\n",
    "5. tmdb_data\n",
    "    - Movie ID\n",
    "    - Revenue\n",
    "    - Budget\n",
    "    - Certification (MPAA Rating)\n",
    "    \n",
    "\n",
    "**Note:** Normalize all data into separate tables EXCEPT the data from the TMDB API calls; keep that data together in a table (columns: imdb_id, revenue, budget, certification). "
   ]
  },
  {
   "cell_type": "markdown",
   "id": "7d58b9fa",
   "metadata": {},
   "source": [
    "# 1. Normalize Genres from Title Basics"
   ]
  },
  {
   "cell_type": "code",
   "execution_count": null,
   "id": "3cbb16fb",
   "metadata": {},
   "outputs": [],
   "source": []
  },
  {
   "cell_type": "code",
   "execution_count": null,
   "id": "58aa6c35",
   "metadata": {},
   "outputs": [],
   "source": []
  },
  {
   "cell_type": "code",
   "execution_count": null,
   "id": "08f007fc",
   "metadata": {},
   "outputs": [],
   "source": []
  },
  {
   "cell_type": "markdown",
   "id": "1044e315",
   "metadata": {},
   "source": [
    "# 2. Save MySQL tables with tconst as primary key"
   ]
  },
  {
   "cell_type": "markdown",
   "id": "f3ed956f",
   "metadata": {},
   "source": [
    "# 3. Show tables, table heads, and export"
   ]
  },
  {
   "cell_type": "code",
   "execution_count": null,
   "id": "b7b1206e",
   "metadata": {},
   "outputs": [],
   "source": []
  }
 ],
 "metadata": {
  "kernelspec": {
   "display_name": "Python (dojo-env)",
   "language": "python",
   "name": "dojo-env"
  },
  "language_info": {
   "codemirror_mode": {
    "name": "ipython",
    "version": 3
   },
   "file_extension": ".py",
   "mimetype": "text/x-python",
   "name": "python",
   "nbconvert_exporter": "python",
   "pygments_lexer": "ipython3",
   "version": "3.9.15"
  },
  "toc": {
   "base_numbering": 1,
   "nav_menu": {},
   "number_sections": false,
   "sideBar": true,
   "skip_h1_title": false,
   "title_cell": "Table of Contents",
   "title_sidebar": "Contents",
   "toc_cell": false,
   "toc_position": {},
   "toc_section_display": true,
   "toc_window_display": false
  }
 },
 "nbformat": 4,
 "nbformat_minor": 5
}
