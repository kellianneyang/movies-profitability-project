{
 "cells": [
  {
   "cell_type": "markdown",
   "id": "d5dc1a33",
   "metadata": {},
   "source": [
    "# Movies Profitability Project"
   ]
  },
  {
   "cell_type": "markdown",
   "id": "4292b5d5",
   "metadata": {},
   "source": [
    "# 1. Preliminary Steps"
   ]
  },
  {
   "cell_type": "code",
   "execution_count": 6,
   "id": "2e294594",
   "metadata": {},
   "outputs": [],
   "source": [
    "# imports\n",
    "import pandas as pd\n",
    "import numpy as np"
   ]
  },
  {
   "cell_type": "code",
   "execution_count": 4,
   "id": "b77b285d",
   "metadata": {},
   "outputs": [],
   "source": [
    "# designate data from https://datasets.imdbws.com/\n",
    "basics_url = 'https://datasets.imdbws.com/title.basics.tsv.gz'\n",
    "akas_url = 'https://datasets.imdbws.com/title.akas.tsv.gz'\n",
    "ratings_url = 'https://datasets.imdbws.com/title.ratings.tsv.gz'"
   ]
  },
  {
   "cell_type": "code",
   "execution_count": 5,
   "id": "fca6dd73",
   "metadata": {},
   "outputs": [],
   "source": [
    "# read in files\n",
    "basics = pd.read_csv(basics_url, sep = '\\t', low_memory = False)\n",
    "akas = pd.read_csv(akas_url, sep = '\\t', low_memory = False)\n",
    "ratings = pd.read_csv(ratings_url, sep = '\\t', low_memory = False)"
   ]
  },
  {
   "cell_type": "markdown",
   "id": "642c2739",
   "metadata": {},
   "source": [
    "# 2. Cleaning"
   ]
  },
  {
   "cell_type": "markdown",
   "id": "8424703a",
   "metadata": {},
   "source": [
    "## 2.1 basics dataframe"
   ]
  },
  {
   "cell_type": "code",
   "execution_count": null,
   "id": "7286c66b",
   "metadata": {},
   "outputs": [],
   "source": [
    "# check out df information\n",
    "basics.info()"
   ]
  },
  {
   "cell_type": "markdown",
   "id": "3a8b53ce",
   "metadata": {},
   "source": [
    "### 2.1.1 Replace \\N with np.nan"
   ]
  },
  {
   "cell_type": "code",
   "execution_count": 8,
   "id": "b0cc30d1",
   "metadata": {},
   "outputs": [],
   "source": [
    "# nulls have been encoded with \\N\n",
    "# find and replace with np.nan\n",
    "basics.replace({'\\\\N': np.nan}, inplace = True)"
   ]
  },
  {
   "cell_type": "markdown",
   "id": "016aa138",
   "metadata": {},
   "source": [
    "### 2.1.2 Drop nulls in 'runtimeMinutes' and 'genres' columns"
   ]
  },
  {
   "cell_type": "code",
   "execution_count": 11,
   "id": "d34ad3bf",
   "metadata": {},
   "outputs": [
    {
     "data": {
      "text/plain": [
       "0"
      ]
     },
     "execution_count": 11,
     "metadata": {},
     "output_type": "execute_result"
    }
   ],
   "source": [
    "# drop nulls in 'runtimeMinutes' column\n",
    "basics.dropna(subset = ['runtimeMinutes'], inplace = True)\n",
    "\n",
    "# check\n",
    "basics['runtimeMinutes'].isna().sum()"
   ]
  },
  {
   "cell_type": "code",
   "execution_count": 15,
   "id": "4365fbbc",
   "metadata": {},
   "outputs": [
    {
     "data": {
      "text/plain": [
       "0"
      ]
     },
     "execution_count": 15,
     "metadata": {},
     "output_type": "execute_result"
    }
   ],
   "source": [
    "# drop nulls in 'genres' column\n",
    "basics.dropna(subset = ['genres'], inplace = True)\n",
    "\n",
    "# check\n",
    "basics['genres'].isna().sum()"
   ]
  },
  {
   "cell_type": "markdown",
   "id": "dcb49000",
   "metadata": {},
   "source": [
    "### 2.1.3 Keep only 'movie' in 'titleType' column"
   ]
  },
  {
   "cell_type": "code",
   "execution_count": 18,
   "id": "ba515711",
   "metadata": {},
   "outputs": [],
   "source": [
    "# keep only 'titleType' == 'movie'\n",
    "basics = basics[basics['titleType'] == 'movie']\n",
    "\n",
    "# check\n",
    "basics['titleType'].value_counts()"
   ]
  },
  {
   "cell_type": "markdown",
   "id": "2c0ababe",
   "metadata": {},
   "source": [
    "### 2.1.4 Keep only years from 2000-2022 in 'startYear' column"
   ]
  },
  {
   "cell_type": "code",
   "execution_count": 34,
   "id": "b71d83c9",
   "metadata": {},
   "outputs": [
    {
     "data": {
      "text/plain": [
       "count    223440.000000\n",
       "mean       2013.371411\n",
       "std           5.852936\n",
       "min        2000.000000\n",
       "25%        2009.000000\n",
       "50%        2014.000000\n",
       "75%        2018.000000\n",
       "max        2022.000000\n",
       "Name: startYear, dtype: float64"
      ]
     },
     "execution_count": 34,
     "metadata": {},
     "output_type": "execute_result"
    }
   ],
   "source": [
    "# check min and max year first\n",
    "basics['startYear'].describe()"
   ]
  },
  {
   "cell_type": "code",
   "execution_count": 29,
   "id": "55598fbc",
   "metadata": {},
   "outputs": [
    {
     "data": {
      "text/plain": [
       "0"
      ]
     },
     "execution_count": 29,
     "metadata": {},
     "output_type": "execute_result"
    }
   ],
   "source": [
    "# drop nulls from column\n",
    "basics.dropna(subset = ['startYear'], inplace = True)\n",
    "\n",
    "# check\n",
    "basics['startYear'].isna().sum()"
   ]
  },
  {
   "cell_type": "code",
   "execution_count": 36,
   "id": "b9869b57",
   "metadata": {},
   "outputs": [
    {
     "data": {
      "text/plain": [
       "2022    12844\n",
       "2021    12373\n",
       "2020    11576\n",
       "2019    14076\n",
       "2018    14336\n",
       "2017    14375\n",
       "2016    13962\n",
       "2015    13481\n",
       "2014    13115\n",
       "2013    12388\n",
       "2012    11637\n",
       "2011    10781\n",
       "2010    10208\n",
       "2009     9361\n",
       "2008     8158\n",
       "2007     6964\n",
       "2006     6523\n",
       "2005     5838\n",
       "2004     5213\n",
       "2003     4592\n",
       "2002     4129\n",
       "2001     3869\n",
       "2000     3641\n",
       "Name: startYear, dtype: int64"
      ]
     },
     "execution_count": 36,
     "metadata": {},
     "output_type": "execute_result"
    }
   ],
   "source": [
    "# keep only 'startYear' from 2000 to 2022, including 2000 and 2022\n",
    "basics = basics[(basics['startYear'] >= 2000) &\n",
    "                (basics['startYear'] <= 2022)]\n",
    "\n",
    "# check\n",
    "basics['startYear'].value_counts().sort_index(ascending = False)"
   ]
  },
  {
   "cell_type": "markdown",
   "id": "fec9f918",
   "metadata": {},
   "source": [
    "### 2.1.5 Exclude documentaries"
   ]
  },
  {
   "cell_type": "code",
   "execution_count": 37,
   "id": "bf9ae487",
   "metadata": {},
   "outputs": [
    {
     "data": {
      "text/plain": [
       "Documentary                    53251\n",
       "Drama                          36051\n",
       "Comedy                         13456\n",
       "Comedy,Drama                    6459\n",
       "Horror                          5798\n",
       "                               ...  \n",
       "Documentary,Sci-Fi,Thriller        1\n",
       "Comedy,History,Mystery             1\n",
       "Crime,Documentary,Romance          1\n",
       "Animation,Biography,Sport          1\n",
       "Crime,Fantasy,Sci-Fi               1\n",
       "Name: genres, Length: 1191, dtype: int64"
      ]
     },
     "execution_count": 37,
     "metadata": {},
     "output_type": "execute_result"
    }
   ],
   "source": [
    "# check out 'genres' column\n",
    "basics['genres'].value_counts()"
   ]
  },
  {
   "cell_type": "code",
   "execution_count": 38,
   "id": "9a4a109c",
   "metadata": {},
   "outputs": [
    {
     "data": {
      "text/plain": [
       "Drama                        36051\n",
       "Comedy                       13456\n",
       "Comedy,Drama                  6459\n",
       "Horror                        5798\n",
       "Drama,Romance                 4311\n",
       "                             ...  \n",
       "Animation,Biography,Sport        1\n",
       "Adventure,History,Music          1\n",
       "Adventure,History,War            1\n",
       "Action,Animation,Romance         1\n",
       "Crime,Fantasy,Sci-Fi             1\n",
       "Name: genres, Length: 969, dtype: int64"
      ]
     },
     "execution_count": 38,
     "metadata": {},
     "output_type": "execute_result"
    }
   ],
   "source": [
    "# exclude any movies that have 'documentary' in their genre\n",
    "is_documentary = basics['genres'].str.contains('documentary', \n",
    "                                               case = False)\n",
    "basics = basics[~is_documentary]\n",
    "\n",
    "# check\n",
    "basics['genres'].value_counts()"
   ]
  },
  {
   "cell_type": "markdown",
   "id": "d46413f4",
   "metadata": {},
   "source": [
    "### 2.1.6 Keep only US movies (from column in akas)"
   ]
  },
  {
   "cell_type": "markdown",
   "id": "d0f2d5dd",
   "metadata": {},
   "source": [
    "## 2.2 akas dataframe"
   ]
  },
  {
   "cell_type": "code",
   "execution_count": null,
   "id": "c5523b0e",
   "metadata": {},
   "outputs": [],
   "source": [
    "# nulls have been encoded with \\N\n",
    "# find and replace with np.nan\n",
    "akas.replace({'\\\\N': np.nan}, inplace = True)\n",
    "ratings.replace({'\\\\N': np.nan}, inplace = True)"
   ]
  },
  {
   "cell_type": "markdown",
   "id": "3f52ffea",
   "metadata": {},
   "source": [
    "## 2.3 ratings dataframe"
   ]
  },
  {
   "cell_type": "code",
   "execution_count": null,
   "id": "c435d9ae",
   "metadata": {},
   "outputs": [],
   "source": [
    "# check for duplicates?"
   ]
  }
 ],
 "metadata": {
  "kernelspec": {
   "display_name": "Python (dojo-env)",
   "language": "python",
   "name": "dojo-env"
  },
  "language_info": {
   "codemirror_mode": {
    "name": "ipython",
    "version": 3
   },
   "file_extension": ".py",
   "mimetype": "text/x-python",
   "name": "python",
   "nbconvert_exporter": "python",
   "pygments_lexer": "ipython3",
   "version": "3.9.15"
  },
  "toc": {
   "base_numbering": 1,
   "nav_menu": {},
   "number_sections": false,
   "sideBar": true,
   "skip_h1_title": false,
   "title_cell": "Table of Contents",
   "title_sidebar": "Contents",
   "toc_cell": false,
   "toc_position": {},
   "toc_section_display": true,
   "toc_window_display": false
  }
 },
 "nbformat": 4,
 "nbformat_minor": 5
}
