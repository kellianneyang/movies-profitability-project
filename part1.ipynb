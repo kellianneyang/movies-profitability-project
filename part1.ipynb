{
 "cells": [
  {
   "cell_type": "markdown",
   "id": "d5dc1a33",
   "metadata": {},
   "source": [
    "# Movies Profitability Project: Part 1"
   ]
  },
  {
   "cell_type": "markdown",
   "id": "6e719b35",
   "metadata": {},
   "source": [
    "## Background"
   ]
  },
  {
   "cell_type": "markdown",
   "id": "1b29422e",
   "metadata": {},
   "source": [
    "For this project, you have been hired to produce a MySQL database on Movies from a subset of IMDB's publicly available dataset. Ultimately, you will use this database to analyze what makes a movie successful and will provide recommendations to the stakeholder on how to make a successful movie.\n",
    "\n",
    "Your stakeholder only wants you to include information for movies based on the following specifications:\n",
    "\n",
    "- Exclude any movie with missing values for genre or runtime\n",
    "- Include only full-length movies (titleType = \"movie\").\n",
    "- Include only fictional movies (not from documentary genre)\n",
    "- Include only movies that were released 2000 - 2021 (include 2000 and 2021)\n",
    "- Include only movies that were released in the United States"
   ]
  },
  {
   "cell_type": "markdown",
   "id": "8a0eccae",
   "metadata": {},
   "source": [
    "## Goal"
   ]
  },
  {
   "cell_type": "markdown",
   "id": "0495a830",
   "metadata": {},
   "source": [
    "The goal of this notebook is to download several files from IMDB's movie data set and filter out the subset of movies requested by the stakeholder."
   ]
  },
  {
   "cell_type": "markdown",
   "id": "2666e31d",
   "metadata": {},
   "source": [
    "## Data"
   ]
  },
  {
   "cell_type": "markdown",
   "id": "6d2eee19",
   "metadata": {},
   "source": [
    "Data is from The Movie DB: https://www.themoviedb.org/\n",
    "\n",
    "![png](Images/the_movie_db.png)"
   ]
  },
  {
   "cell_type": "markdown",
   "id": "4292b5d5",
   "metadata": {},
   "source": [
    "# 1. Preliminary Steps"
   ]
  },
  {
   "cell_type": "code",
   "execution_count": 1,
   "id": "2e294594",
   "metadata": {},
   "outputs": [],
   "source": [
    "# imports\n",
    "import pandas as pd\n",
    "import numpy as np"
   ]
  },
  {
   "cell_type": "code",
   "execution_count": 2,
   "id": "b77b285d",
   "metadata": {},
   "outputs": [],
   "source": [
    "# designate data from https://datasets.imdbws.com/\n",
    "basics_url = 'https://datasets.imdbws.com/title.basics.tsv.gz'\n",
    "akas_url = 'https://datasets.imdbws.com/title.akas.tsv.gz'\n",
    "ratings_url = 'https://datasets.imdbws.com/title.ratings.tsv.gz'"
   ]
  },
  {
   "cell_type": "code",
   "execution_count": 3,
   "id": "fca6dd73",
   "metadata": {},
   "outputs": [],
   "source": [
    "# read in files\n",
    "basics = pd.read_csv(basics_url, sep = '\\t', low_memory = False)\n",
    "akas = pd.read_csv(akas_url, sep = '\\t', low_memory = False)\n",
    "ratings = pd.read_csv(ratings_url, sep = '\\t', low_memory = False)"
   ]
  },
  {
   "cell_type": "markdown",
   "id": "642c2739",
   "metadata": {},
   "source": [
    "# 2. Cleaning"
   ]
  },
  {
   "cell_type": "markdown",
   "id": "8424703a",
   "metadata": {},
   "source": [
    "## 2.1 basics dataframe"
   ]
  },
  {
   "cell_type": "code",
   "execution_count": 4,
   "id": "7286c66b",
   "metadata": {},
   "outputs": [
    {
     "name": "stdout",
     "output_type": "stream",
     "text": [
      "<class 'pandas.core.frame.DataFrame'>\n",
      "RangeIndex: 9864435 entries, 0 to 9864434\n",
      "Data columns (total 9 columns):\n",
      " #   Column          Dtype \n",
      "---  ------          ----- \n",
      " 0   tconst          object\n",
      " 1   titleType       object\n",
      " 2   primaryTitle    object\n",
      " 3   originalTitle   object\n",
      " 4   isAdult         object\n",
      " 5   startYear       object\n",
      " 6   endYear         object\n",
      " 7   runtimeMinutes  object\n",
      " 8   genres          object\n",
      "dtypes: object(9)\n",
      "memory usage: 677.3+ MB\n"
     ]
    }
   ],
   "source": [
    "# check out df information\n",
    "basics.info()"
   ]
  },
  {
   "cell_type": "markdown",
   "id": "3a8b53ce",
   "metadata": {},
   "source": [
    "### 2.1.1 Replace \\N with np.nan"
   ]
  },
  {
   "cell_type": "code",
   "execution_count": 5,
   "id": "b0cc30d1",
   "metadata": {},
   "outputs": [
    {
     "data": {
      "text/plain": [
       "tconst                  0\n",
       "titleType               0\n",
       "primaryTitle           11\n",
       "originalTitle          11\n",
       "isAdult                 1\n",
       "startYear         1331636\n",
       "endYear           9757636\n",
       "runtimeMinutes    6954952\n",
       "genres             443587\n",
       "dtype: int64"
      ]
     },
     "execution_count": 5,
     "metadata": {},
     "output_type": "execute_result"
    }
   ],
   "source": [
    "# nulls have been encoded with \\N\n",
    "# find and replace with np.nan\n",
    "basics.replace({'\\\\N': np.nan}, inplace = True)\n",
    "\n",
    "# check\n",
    "basics.isna().sum()"
   ]
  },
  {
   "cell_type": "markdown",
   "id": "016aa138",
   "metadata": {},
   "source": [
    "### 2.1.2 Drop nulls in 'runtimeMinutes' and 'genres' columns"
   ]
  },
  {
   "cell_type": "code",
   "execution_count": 6,
   "id": "d34ad3bf",
   "metadata": {},
   "outputs": [
    {
     "data": {
      "text/plain": [
       "0"
      ]
     },
     "execution_count": 6,
     "metadata": {},
     "output_type": "execute_result"
    }
   ],
   "source": [
    "# drop nulls in 'runtimeMinutes' column\n",
    "basics.dropna(subset = ['runtimeMinutes'], inplace = True)\n",
    "\n",
    "# check\n",
    "basics['runtimeMinutes'].isna().sum()"
   ]
  },
  {
   "cell_type": "code",
   "execution_count": 7,
   "id": "4365fbbc",
   "metadata": {},
   "outputs": [
    {
     "data": {
      "text/plain": [
       "0"
      ]
     },
     "execution_count": 7,
     "metadata": {},
     "output_type": "execute_result"
    }
   ],
   "source": [
    "# drop nulls in 'genres' column\n",
    "basics.dropna(subset = ['genres'], inplace = True)\n",
    "\n",
    "# check\n",
    "basics['genres'].isna().sum()"
   ]
  },
  {
   "cell_type": "markdown",
   "id": "dcb49000",
   "metadata": {},
   "source": [
    "### 2.1.3 Keep only 'movie' in 'titleType' column"
   ]
  },
  {
   "cell_type": "code",
   "execution_count": 8,
   "id": "ba515711",
   "metadata": {},
   "outputs": [
    {
     "data": {
      "text/plain": [
       "movie    382719\n",
       "Name: titleType, dtype: int64"
      ]
     },
     "execution_count": 8,
     "metadata": {},
     "output_type": "execute_result"
    }
   ],
   "source": [
    "# keep only 'titleType' == 'movie'\n",
    "basics = basics[basics['titleType'] == 'movie']\n",
    "\n",
    "# check\n",
    "basics['titleType'].value_counts()"
   ]
  },
  {
   "cell_type": "markdown",
   "id": "2c0ababe",
   "metadata": {},
   "source": [
    "### 2.1.4 Keep only years from 2000-2022 in 'startYear' column"
   ]
  },
  {
   "cell_type": "code",
   "execution_count": 9,
   "id": "55598fbc",
   "metadata": {},
   "outputs": [
    {
     "data": {
      "text/plain": [
       "0"
      ]
     },
     "execution_count": 9,
     "metadata": {},
     "output_type": "execute_result"
    }
   ],
   "source": [
    "# drop nulls from column\n",
    "basics.dropna(subset = ['startYear'], inplace = True)\n",
    "\n",
    "# check\n",
    "basics['startYear'].isna().sum()"
   ]
  },
  {
   "cell_type": "code",
   "execution_count": 10,
   "id": "210835b9",
   "metadata": {},
   "outputs": [],
   "source": [
    "# convert dtype to int\n",
    "basics['startYear'] = basics['startYear'].astype(int)"
   ]
  },
  {
   "cell_type": "code",
   "execution_count": 11,
   "id": "b71d83c9",
   "metadata": {},
   "outputs": [
    {
     "data": {
      "text/plain": [
       "count    376265.000000\n",
       "mean       1995.762930\n",
       "std          26.686547\n",
       "min        1894.000000\n",
       "25%        1981.000000\n",
       "50%        2007.000000\n",
       "75%        2016.000000\n",
       "max        2029.000000\n",
       "Name: startYear, dtype: float64"
      ]
     },
     "execution_count": 11,
     "metadata": {},
     "output_type": "execute_result"
    }
   ],
   "source": [
    "# check min and max year first\n",
    "basics['startYear'].describe()"
   ]
  },
  {
   "cell_type": "code",
   "execution_count": 12,
   "id": "b9869b57",
   "metadata": {},
   "outputs": [
    {
     "data": {
      "text/plain": [
       "2022    12844\n",
       "2021    12373\n",
       "2020    11576\n",
       "2019    14076\n",
       "2018    14336\n",
       "2017    14375\n",
       "2016    13962\n",
       "2015    13481\n",
       "2014    13115\n",
       "2013    12388\n",
       "2012    11637\n",
       "2011    10781\n",
       "2010    10208\n",
       "2009     9361\n",
       "2008     8158\n",
       "2007     6964\n",
       "2006     6523\n",
       "2005     5838\n",
       "2004     5213\n",
       "2003     4592\n",
       "2002     4129\n",
       "2001     3869\n",
       "2000     3641\n",
       "Name: startYear, dtype: int64"
      ]
     },
     "execution_count": 12,
     "metadata": {},
     "output_type": "execute_result"
    }
   ],
   "source": [
    "# keep only 'startYear' from 2000 to 2022, including 2000 and 2022\n",
    "basics = basics[(basics['startYear'] >= 2000) &\n",
    "                (basics['startYear'] <= 2022)]\n",
    "\n",
    "# check\n",
    "basics['startYear'].value_counts().sort_index(ascending = False)"
   ]
  },
  {
   "cell_type": "markdown",
   "id": "fec9f918",
   "metadata": {},
   "source": [
    "### 2.1.5 Exclude documentaries"
   ]
  },
  {
   "cell_type": "code",
   "execution_count": 13,
   "id": "bf9ae487",
   "metadata": {},
   "outputs": [
    {
     "data": {
      "text/plain": [
       "Documentary                    53251\n",
       "Drama                          36051\n",
       "Comedy                         13456\n",
       "Comedy,Drama                    6459\n",
       "Horror                          5798\n",
       "                               ...  \n",
       "Documentary,Sci-Fi,Thriller        1\n",
       "Comedy,History,Mystery             1\n",
       "Crime,Documentary,Romance          1\n",
       "Animation,Biography,Sport          1\n",
       "Crime,Fantasy,Sci-Fi               1\n",
       "Name: genres, Length: 1191, dtype: int64"
      ]
     },
     "execution_count": 13,
     "metadata": {},
     "output_type": "execute_result"
    }
   ],
   "source": [
    "# check out 'genres' column\n",
    "basics['genres'].value_counts()"
   ]
  },
  {
   "cell_type": "code",
   "execution_count": 14,
   "id": "9a4a109c",
   "metadata": {},
   "outputs": [
    {
     "data": {
      "text/plain": [
       "Drama                        36051\n",
       "Comedy                       13456\n",
       "Comedy,Drama                  6459\n",
       "Horror                        5798\n",
       "Drama,Romance                 4311\n",
       "                             ...  \n",
       "Animation,Biography,Sport        1\n",
       "Adventure,History,Music          1\n",
       "Adventure,History,War            1\n",
       "Action,Animation,Romance         1\n",
       "Crime,Fantasy,Sci-Fi             1\n",
       "Name: genres, Length: 969, dtype: int64"
      ]
     },
     "execution_count": 14,
     "metadata": {},
     "output_type": "execute_result"
    }
   ],
   "source": [
    "# exclude any movies that have 'documentary' in their genre\n",
    "is_documentary = basics['genres'].str.contains('documentary', \n",
    "                                               case = False)\n",
    "basics = basics[~is_documentary]\n",
    "\n",
    "# check\n",
    "basics['genres'].value_counts()"
   ]
  },
  {
   "cell_type": "markdown",
   "id": "d0f2d5dd",
   "metadata": {},
   "source": [
    "## 2.2 akas dataframe"
   ]
  },
  {
   "cell_type": "code",
   "execution_count": 15,
   "id": "36f2a3f6",
   "metadata": {},
   "outputs": [
    {
     "name": "stdout",
     "output_type": "stream",
     "text": [
      "<class 'pandas.core.frame.DataFrame'>\n",
      "RangeIndex: 35949831 entries, 0 to 35949830\n",
      "Data columns (total 8 columns):\n",
      " #   Column           Dtype \n",
      "---  ------           ----- \n",
      " 0   titleId          object\n",
      " 1   ordering         int64 \n",
      " 2   title            object\n",
      " 3   region           object\n",
      " 4   language         object\n",
      " 5   types            object\n",
      " 6   attributes       object\n",
      " 7   isOriginalTitle  object\n",
      "dtypes: int64(1), object(7)\n",
      "memory usage: 2.1+ GB\n"
     ]
    }
   ],
   "source": [
    "# check info\n",
    "akas.info()"
   ]
  },
  {
   "cell_type": "markdown",
   "id": "f9b02166",
   "metadata": {},
   "source": [
    "### 2.2.1 Replace \\N with np.nan"
   ]
  },
  {
   "cell_type": "code",
   "execution_count": 16,
   "id": "c5523b0e",
   "metadata": {},
   "outputs": [
    {
     "data": {
      "text/plain": [
       "titleId                   0\n",
       "ordering                  0\n",
       "title                     5\n",
       "region              1890892\n",
       "language            6609786\n",
       "types              30389341\n",
       "attributes         35690126\n",
       "isOriginalTitle        2108\n",
       "dtype: int64"
      ]
     },
     "execution_count": 16,
     "metadata": {},
     "output_type": "execute_result"
    }
   ],
   "source": [
    "# nulls have been encoded with \\N\n",
    "# find and replace with np.nan\n",
    "akas.replace({'\\\\N': np.nan}, inplace = True)\n",
    "\n",
    "# check\n",
    "akas.isna().sum()"
   ]
  },
  {
   "cell_type": "markdown",
   "id": "3b6003ef",
   "metadata": {},
   "source": [
    "### 2.2.2 Keep only movies from US in column 'region'"
   ]
  },
  {
   "cell_type": "code",
   "execution_count": 17,
   "id": "2005039d",
   "metadata": {},
   "outputs": [
    {
     "data": {
      "text/plain": [
       "0"
      ]
     },
     "execution_count": 17,
     "metadata": {},
     "output_type": "execute_result"
    }
   ],
   "source": [
    "# drop null values in 'region'\n",
    "akas.dropna(subset = ['region'], inplace = True)\n",
    "\n",
    "# check\n",
    "akas['region'].isna().sum()"
   ]
  },
  {
   "cell_type": "code",
   "execution_count": 18,
   "id": "870a0d1e",
   "metadata": {},
   "outputs": [
    {
     "data": {
      "text/plain": [
       "DE    4305497\n",
       "FR    4301385\n",
       "JP    4299891\n",
       "IN    4241113\n",
       "ES    4221240\n",
       "       ...   \n",
       "JE          2\n",
       "NU          1\n",
       "TV          1\n",
       "PW          1\n",
       "NR          1\n",
       "Name: region, Length: 247, dtype: int64"
      ]
     },
     "execution_count": 18,
     "metadata": {},
     "output_type": "execute_result"
    }
   ],
   "source": [
    "# check values in 'region'\n",
    "akas['region'].value_counts()"
   ]
  },
  {
   "cell_type": "code",
   "execution_count": 19,
   "id": "faab8f9d",
   "metadata": {},
   "outputs": [
    {
     "data": {
      "text/plain": [
       "1438079"
      ]
     },
     "execution_count": 19,
     "metadata": {},
     "output_type": "execute_result"
    }
   ],
   "source": [
    "# check number of movies from US\n",
    "len(akas[akas['region'] == 'US'])"
   ]
  },
  {
   "cell_type": "code",
   "execution_count": 20,
   "id": "96312b56",
   "metadata": {},
   "outputs": [
    {
     "data": {
      "text/plain": [
       "US    1438079\n",
       "Name: region, dtype: int64"
      ]
     },
     "execution_count": 20,
     "metadata": {},
     "output_type": "execute_result"
    }
   ],
   "source": [
    "# keep only movies from uS\n",
    "akas = akas[akas['region'] == 'US']\n",
    "\n",
    "# check\n",
    "akas['region'].value_counts()"
   ]
  },
  {
   "cell_type": "markdown",
   "id": "3f52ffea",
   "metadata": {},
   "source": [
    "## 2.3 ratings dataframe"
   ]
  },
  {
   "cell_type": "code",
   "execution_count": 21,
   "id": "0c3c456d",
   "metadata": {},
   "outputs": [
    {
     "name": "stdout",
     "output_type": "stream",
     "text": [
      "<class 'pandas.core.frame.DataFrame'>\n",
      "RangeIndex: 1313744 entries, 0 to 1313743\n",
      "Data columns (total 3 columns):\n",
      " #   Column         Non-Null Count    Dtype  \n",
      "---  ------         --------------    -----  \n",
      " 0   tconst         1313744 non-null  object \n",
      " 1   averageRating  1313744 non-null  float64\n",
      " 2   numVotes       1313744 non-null  int64  \n",
      "dtypes: float64(1), int64(1), object(1)\n",
      "memory usage: 30.1+ MB\n"
     ]
    }
   ],
   "source": [
    "# check info\n",
    "ratings.info()"
   ]
  },
  {
   "cell_type": "markdown",
   "id": "6fec1089",
   "metadata": {},
   "source": [
    "### 2.3.1 Replace \\N with np.nan"
   ]
  },
  {
   "cell_type": "code",
   "execution_count": 22,
   "id": "36ea37eb",
   "metadata": {},
   "outputs": [
    {
     "data": {
      "text/plain": [
       "tconst           0\n",
       "averageRating    0\n",
       "numVotes         0\n",
       "dtype: int64"
      ]
     },
     "execution_count": 22,
     "metadata": {},
     "output_type": "execute_result"
    }
   ],
   "source": [
    "# nulls have been encoded with \\N\n",
    "# find and replace with np.nan\n",
    "ratings.replace({'\\\\N': np.nan}, inplace = True)\n",
    "\n",
    "# check\n",
    "ratings.isna().sum()"
   ]
  },
  {
   "cell_type": "markdown",
   "id": "712ad777",
   "metadata": {},
   "source": [
    "## 2.4 Filtering basics, ratings based on akas to keep only movies from US"
   ]
  },
  {
   "cell_type": "code",
   "execution_count": 23,
   "id": "bb7165d5",
   "metadata": {},
   "outputs": [
    {
     "data": {
      "text/plain": [
       "34803       True\n",
       "61116       True\n",
       "67669       True\n",
       "86801       True\n",
       "93938       True\n",
       "           ...  \n",
       "9864108     True\n",
       "9864117     True\n",
       "9864156    False\n",
       "9864201     True\n",
       "9864285    False\n",
       "Name: tconst, Length: 147576, dtype: bool"
      ]
     },
     "execution_count": 23,
     "metadata": {},
     "output_type": "execute_result"
    }
   ],
   "source": [
    "# create filter for basics to only include the US by using akas\n",
    "# (which has already been cut down to only include US)\n",
    "us_movies = basics['tconst'].isin(akas['titleId'])\n",
    "\n",
    "# check\n",
    "us_movies"
   ]
  },
  {
   "cell_type": "code",
   "execution_count": 24,
   "id": "9d0877b9",
   "metadata": {},
   "outputs": [
    {
     "data": {
      "text/plain": [
       "147576"
      ]
     },
     "execution_count": 24,
     "metadata": {},
     "output_type": "execute_result"
    }
   ],
   "source": [
    "# check pre-filtered len of basics\n",
    "len(basics)"
   ]
  },
  {
   "cell_type": "code",
   "execution_count": 25,
   "id": "206a2f85",
   "metadata": {},
   "outputs": [
    {
     "data": {
      "text/plain": [
       "86742"
      ]
     },
     "execution_count": 25,
     "metadata": {},
     "output_type": "execute_result"
    }
   ],
   "source": [
    "# filter\n",
    "basics = basics[us_movies]\n",
    "\n",
    "# check\n",
    "len(basics)"
   ]
  },
  {
   "cell_type": "code",
   "execution_count": 26,
   "id": "865205d2",
   "metadata": {},
   "outputs": [
    {
     "data": {
      "text/plain": [
       "0           True\n",
       "1           True\n",
       "2          False\n",
       "3          False\n",
       "4           True\n",
       "           ...  \n",
       "1313739    False\n",
       "1313740    False\n",
       "1313741    False\n",
       "1313742    False\n",
       "1313743    False\n",
       "Name: tconst, Length: 1313744, dtype: bool"
      ]
     },
     "execution_count": 26,
     "metadata": {},
     "output_type": "execute_result"
    }
   ],
   "source": [
    "# create filter for ratings to only include the US by using akas\n",
    "# (which has already been cut down to only include US)\n",
    "us_movies = ratings['tconst'].isin(akas['titleId'])\n",
    "\n",
    "# check\n",
    "us_movies"
   ]
  },
  {
   "cell_type": "code",
   "execution_count": 27,
   "id": "616a2cbf",
   "metadata": {},
   "outputs": [
    {
     "data": {
      "text/plain": [
       "1313744"
      ]
     },
     "execution_count": 27,
     "metadata": {},
     "output_type": "execute_result"
    }
   ],
   "source": [
    "# check pre-filtered len of ratings\n",
    "len(ratings)"
   ]
  },
  {
   "cell_type": "code",
   "execution_count": 28,
   "id": "c13d99dd",
   "metadata": {},
   "outputs": [
    {
     "data": {
      "text/plain": [
       "499625"
      ]
     },
     "execution_count": 28,
     "metadata": {},
     "output_type": "execute_result"
    }
   ],
   "source": [
    "# filter\n",
    "ratings = ratings[us_movies]\n",
    "\n",
    "# check\n",
    "len(ratings)"
   ]
  },
  {
   "cell_type": "markdown",
   "id": "28535257",
   "metadata": {},
   "source": [
    "# 3. Review"
   ]
  },
  {
   "cell_type": "code",
   "execution_count": 29,
   "id": "986f12f1",
   "metadata": {},
   "outputs": [
    {
     "name": "stdout",
     "output_type": "stream",
     "text": [
      "<class 'pandas.core.frame.DataFrame'>\n",
      "Int64Index: 86742 entries, 34803 to 9864201\n",
      "Data columns (total 9 columns):\n",
      " #   Column          Non-Null Count  Dtype \n",
      "---  ------          --------------  ----- \n",
      " 0   tconst          86742 non-null  object\n",
      " 1   titleType       86742 non-null  object\n",
      " 2   primaryTitle    86742 non-null  object\n",
      " 3   originalTitle   86742 non-null  object\n",
      " 4   isAdult         86742 non-null  object\n",
      " 5   startYear       86742 non-null  int32 \n",
      " 6   endYear         0 non-null      object\n",
      " 7   runtimeMinutes  86742 non-null  object\n",
      " 8   genres          86742 non-null  object\n",
      "dtypes: int32(1), object(8)\n",
      "memory usage: 6.3+ MB\n"
     ]
    }
   ],
   "source": [
    "# check info for basics\n",
    "basics.info()"
   ]
  },
  {
   "cell_type": "code",
   "execution_count": 30,
   "id": "79dab30f",
   "metadata": {},
   "outputs": [
    {
     "name": "stdout",
     "output_type": "stream",
     "text": [
      "<class 'pandas.core.frame.DataFrame'>\n",
      "Int64Index: 1438079 entries, 5 to 35949575\n",
      "Data columns (total 8 columns):\n",
      " #   Column           Non-Null Count    Dtype \n",
      "---  ------           --------------    ----- \n",
      " 0   titleId          1438079 non-null  object\n",
      " 1   ordering         1438079 non-null  int64 \n",
      " 2   title            1438079 non-null  object\n",
      " 3   region           1438079 non-null  object\n",
      " 4   language         3933 non-null     object\n",
      " 5   types            978972 non-null   object\n",
      " 6   attributes       46596 non-null    object\n",
      " 7   isOriginalTitle  1436734 non-null  object\n",
      "dtypes: int64(1), object(7)\n",
      "memory usage: 98.7+ MB\n"
     ]
    }
   ],
   "source": [
    "# check info for akas\n",
    "akas.info()"
   ]
  },
  {
   "cell_type": "code",
   "execution_count": 31,
   "id": "bb944050",
   "metadata": {},
   "outputs": [
    {
     "name": "stdout",
     "output_type": "stream",
     "text": [
      "<class 'pandas.core.frame.DataFrame'>\n",
      "Int64Index: 499625 entries, 0 to 1313719\n",
      "Data columns (total 3 columns):\n",
      " #   Column         Non-Null Count   Dtype  \n",
      "---  ------         --------------   -----  \n",
      " 0   tconst         499625 non-null  object \n",
      " 1   averageRating  499625 non-null  float64\n",
      " 2   numVotes       499625 non-null  int64  \n",
      "dtypes: float64(1), int64(1), object(1)\n",
      "memory usage: 15.2+ MB\n"
     ]
    }
   ],
   "source": [
    "# check info for ratings\n",
    "ratings.info()"
   ]
  },
  {
   "cell_type": "markdown",
   "id": "20ebb737",
   "metadata": {},
   "source": [
    "# 4. Save"
   ]
  },
  {
   "cell_type": "code",
   "execution_count": 32,
   "id": "382277f7",
   "metadata": {},
   "outputs": [
    {
     "data": {
      "text/plain": [
       "[]"
      ]
     },
     "execution_count": 32,
     "metadata": {},
     "output_type": "execute_result"
    }
   ],
   "source": [
    "# make data folder\n",
    "import os\n",
    "os.makedirs('Data/', exist_ok = True)\n",
    "\n",
    "# check\n",
    "os.listdir('Data/')"
   ]
  },
  {
   "cell_type": "code",
   "execution_count": 33,
   "id": "41ba71c2",
   "metadata": {},
   "outputs": [
    {
     "data": {
      "text/html": [
       "<div>\n",
       "<style scoped>\n",
       "    .dataframe tbody tr th:only-of-type {\n",
       "        vertical-align: middle;\n",
       "    }\n",
       "\n",
       "    .dataframe tbody tr th {\n",
       "        vertical-align: top;\n",
       "    }\n",
       "\n",
       "    .dataframe thead th {\n",
       "        text-align: right;\n",
       "    }\n",
       "</style>\n",
       "<table border=\"1\" class=\"dataframe\">\n",
       "  <thead>\n",
       "    <tr style=\"text-align: right;\">\n",
       "      <th></th>\n",
       "      <th>tconst</th>\n",
       "      <th>titleType</th>\n",
       "      <th>primaryTitle</th>\n",
       "      <th>originalTitle</th>\n",
       "      <th>isAdult</th>\n",
       "      <th>startYear</th>\n",
       "      <th>endYear</th>\n",
       "      <th>runtimeMinutes</th>\n",
       "      <th>genres</th>\n",
       "    </tr>\n",
       "  </thead>\n",
       "  <tbody>\n",
       "    <tr>\n",
       "      <th>0</th>\n",
       "      <td>tt0035423</td>\n",
       "      <td>movie</td>\n",
       "      <td>Kate &amp; Leopold</td>\n",
       "      <td>Kate &amp; Leopold</td>\n",
       "      <td>0</td>\n",
       "      <td>2001</td>\n",
       "      <td>NaN</td>\n",
       "      <td>118</td>\n",
       "      <td>Comedy,Fantasy,Romance</td>\n",
       "    </tr>\n",
       "    <tr>\n",
       "      <th>1</th>\n",
       "      <td>tt0062336</td>\n",
       "      <td>movie</td>\n",
       "      <td>The Tango of the Widower and Its Distorting Mi...</td>\n",
       "      <td>El tango del viudo y su espejo deformante</td>\n",
       "      <td>0</td>\n",
       "      <td>2020</td>\n",
       "      <td>NaN</td>\n",
       "      <td>70</td>\n",
       "      <td>Drama</td>\n",
       "    </tr>\n",
       "    <tr>\n",
       "      <th>2</th>\n",
       "      <td>tt0069049</td>\n",
       "      <td>movie</td>\n",
       "      <td>The Other Side of the Wind</td>\n",
       "      <td>The Other Side of the Wind</td>\n",
       "      <td>0</td>\n",
       "      <td>2018</td>\n",
       "      <td>NaN</td>\n",
       "      <td>122</td>\n",
       "      <td>Drama</td>\n",
       "    </tr>\n",
       "    <tr>\n",
       "      <th>3</th>\n",
       "      <td>tt0088751</td>\n",
       "      <td>movie</td>\n",
       "      <td>The Naked Monster</td>\n",
       "      <td>The Naked Monster</td>\n",
       "      <td>0</td>\n",
       "      <td>2005</td>\n",
       "      <td>NaN</td>\n",
       "      <td>100</td>\n",
       "      <td>Comedy,Horror,Sci-Fi</td>\n",
       "    </tr>\n",
       "    <tr>\n",
       "      <th>4</th>\n",
       "      <td>tt0096056</td>\n",
       "      <td>movie</td>\n",
       "      <td>Crime and Punishment</td>\n",
       "      <td>Crime and Punishment</td>\n",
       "      <td>0</td>\n",
       "      <td>2002</td>\n",
       "      <td>NaN</td>\n",
       "      <td>126</td>\n",
       "      <td>Drama</td>\n",
       "    </tr>\n",
       "  </tbody>\n",
       "</table>\n",
       "</div>"
      ],
      "text/plain": [
       "      tconst titleType                                       primaryTitle  \\\n",
       "0  tt0035423     movie                                     Kate & Leopold   \n",
       "1  tt0062336     movie  The Tango of the Widower and Its Distorting Mi...   \n",
       "2  tt0069049     movie                         The Other Side of the Wind   \n",
       "3  tt0088751     movie                                  The Naked Monster   \n",
       "4  tt0096056     movie                               Crime and Punishment   \n",
       "\n",
       "                               originalTitle  isAdult  startYear  endYear  \\\n",
       "0                             Kate & Leopold        0       2001      NaN   \n",
       "1  El tango del viudo y su espejo deformante        0       2020      NaN   \n",
       "2                 The Other Side of the Wind        0       2018      NaN   \n",
       "3                          The Naked Monster        0       2005      NaN   \n",
       "4                       Crime and Punishment        0       2002      NaN   \n",
       "\n",
       "   runtimeMinutes                  genres  \n",
       "0             118  Comedy,Fantasy,Romance  \n",
       "1              70                   Drama  \n",
       "2             122                   Drama  \n",
       "3             100    Comedy,Horror,Sci-Fi  \n",
       "4             126                   Drama  "
      ]
     },
     "execution_count": 33,
     "metadata": {},
     "output_type": "execute_result"
    }
   ],
   "source": [
    "# save each file to a compressed csv file in data folder\n",
    "basics.to_csv('Data/title_basics.csv.gz', \n",
    "              compression = 'gzip', \n",
    "              index = False)\n",
    "\n",
    "# check\n",
    "basics = pd.read_csv('Data/title_basics.csv.gz',\n",
    "                    low_memory = False)\n",
    "\n",
    "basics.head()"
   ]
  },
  {
   "cell_type": "code",
   "execution_count": 34,
   "id": "6414d9d1",
   "metadata": {},
   "outputs": [
    {
     "data": {
      "text/html": [
       "<div>\n",
       "<style scoped>\n",
       "    .dataframe tbody tr th:only-of-type {\n",
       "        vertical-align: middle;\n",
       "    }\n",
       "\n",
       "    .dataframe tbody tr th {\n",
       "        vertical-align: top;\n",
       "    }\n",
       "\n",
       "    .dataframe thead th {\n",
       "        text-align: right;\n",
       "    }\n",
       "</style>\n",
       "<table border=\"1\" class=\"dataframe\">\n",
       "  <thead>\n",
       "    <tr style=\"text-align: right;\">\n",
       "      <th></th>\n",
       "      <th>titleId</th>\n",
       "      <th>ordering</th>\n",
       "      <th>title</th>\n",
       "      <th>region</th>\n",
       "      <th>language</th>\n",
       "      <th>types</th>\n",
       "      <th>attributes</th>\n",
       "      <th>isOriginalTitle</th>\n",
       "    </tr>\n",
       "  </thead>\n",
       "  <tbody>\n",
       "    <tr>\n",
       "      <th>0</th>\n",
       "      <td>tt0000001</td>\n",
       "      <td>6</td>\n",
       "      <td>Carmencita</td>\n",
       "      <td>US</td>\n",
       "      <td>NaN</td>\n",
       "      <td>imdbDisplay</td>\n",
       "      <td>NaN</td>\n",
       "      <td>0.0</td>\n",
       "    </tr>\n",
       "    <tr>\n",
       "      <th>1</th>\n",
       "      <td>tt0000002</td>\n",
       "      <td>7</td>\n",
       "      <td>The Clown and His Dogs</td>\n",
       "      <td>US</td>\n",
       "      <td>NaN</td>\n",
       "      <td>NaN</td>\n",
       "      <td>literal English title</td>\n",
       "      <td>0.0</td>\n",
       "    </tr>\n",
       "    <tr>\n",
       "      <th>2</th>\n",
       "      <td>tt0000005</td>\n",
       "      <td>10</td>\n",
       "      <td>Blacksmith Scene</td>\n",
       "      <td>US</td>\n",
       "      <td>NaN</td>\n",
       "      <td>imdbDisplay</td>\n",
       "      <td>NaN</td>\n",
       "      <td>0.0</td>\n",
       "    </tr>\n",
       "    <tr>\n",
       "      <th>3</th>\n",
       "      <td>tt0000005</td>\n",
       "      <td>1</td>\n",
       "      <td>Blacksmithing Scene</td>\n",
       "      <td>US</td>\n",
       "      <td>NaN</td>\n",
       "      <td>alternative</td>\n",
       "      <td>NaN</td>\n",
       "      <td>0.0</td>\n",
       "    </tr>\n",
       "    <tr>\n",
       "      <th>4</th>\n",
       "      <td>tt0000005</td>\n",
       "      <td>6</td>\n",
       "      <td>Blacksmith Scene #1</td>\n",
       "      <td>US</td>\n",
       "      <td>NaN</td>\n",
       "      <td>alternative</td>\n",
       "      <td>NaN</td>\n",
       "      <td>0.0</td>\n",
       "    </tr>\n",
       "  </tbody>\n",
       "</table>\n",
       "</div>"
      ],
      "text/plain": [
       "     titleId  ordering                   title region language        types  \\\n",
       "0  tt0000001         6              Carmencita     US      NaN  imdbDisplay   \n",
       "1  tt0000002         7  The Clown and His Dogs     US      NaN          NaN   \n",
       "2  tt0000005        10        Blacksmith Scene     US      NaN  imdbDisplay   \n",
       "3  tt0000005         1     Blacksmithing Scene     US      NaN  alternative   \n",
       "4  tt0000005         6     Blacksmith Scene #1     US      NaN  alternative   \n",
       "\n",
       "              attributes  isOriginalTitle  \n",
       "0                    NaN              0.0  \n",
       "1  literal English title              0.0  \n",
       "2                    NaN              0.0  \n",
       "3                    NaN              0.0  \n",
       "4                    NaN              0.0  "
      ]
     },
     "execution_count": 34,
     "metadata": {},
     "output_type": "execute_result"
    }
   ],
   "source": [
    "# save each file to a compressed csv file in data folder\n",
    "akas.to_csv('Data/title_akas.csv.gz', \n",
    "              compression = 'gzip', \n",
    "              index = False)\n",
    "\n",
    "# check\n",
    "akas = pd.read_csv('Data/title_akas.csv.gz',\n",
    "                    low_memory = False)\n",
    "\n",
    "akas.head()"
   ]
  },
  {
   "cell_type": "code",
   "execution_count": 35,
   "id": "b0dba1f5",
   "metadata": {},
   "outputs": [
    {
     "data": {
      "text/html": [
       "<div>\n",
       "<style scoped>\n",
       "    .dataframe tbody tr th:only-of-type {\n",
       "        vertical-align: middle;\n",
       "    }\n",
       "\n",
       "    .dataframe tbody tr th {\n",
       "        vertical-align: top;\n",
       "    }\n",
       "\n",
       "    .dataframe thead th {\n",
       "        text-align: right;\n",
       "    }\n",
       "</style>\n",
       "<table border=\"1\" class=\"dataframe\">\n",
       "  <thead>\n",
       "    <tr style=\"text-align: right;\">\n",
       "      <th></th>\n",
       "      <th>tconst</th>\n",
       "      <th>averageRating</th>\n",
       "      <th>numVotes</th>\n",
       "    </tr>\n",
       "  </thead>\n",
       "  <tbody>\n",
       "    <tr>\n",
       "      <th>0</th>\n",
       "      <td>tt0000001</td>\n",
       "      <td>5.7</td>\n",
       "      <td>1974</td>\n",
       "    </tr>\n",
       "    <tr>\n",
       "      <th>1</th>\n",
       "      <td>tt0000002</td>\n",
       "      <td>5.8</td>\n",
       "      <td>264</td>\n",
       "    </tr>\n",
       "    <tr>\n",
       "      <th>2</th>\n",
       "      <td>tt0000005</td>\n",
       "      <td>6.2</td>\n",
       "      <td>2617</td>\n",
       "    </tr>\n",
       "    <tr>\n",
       "      <th>3</th>\n",
       "      <td>tt0000006</td>\n",
       "      <td>5.1</td>\n",
       "      <td>182</td>\n",
       "    </tr>\n",
       "    <tr>\n",
       "      <th>4</th>\n",
       "      <td>tt0000007</td>\n",
       "      <td>5.4</td>\n",
       "      <td>820</td>\n",
       "    </tr>\n",
       "  </tbody>\n",
       "</table>\n",
       "</div>"
      ],
      "text/plain": [
       "      tconst  averageRating  numVotes\n",
       "0  tt0000001            5.7      1974\n",
       "1  tt0000002            5.8       264\n",
       "2  tt0000005            6.2      2617\n",
       "3  tt0000006            5.1       182\n",
       "4  tt0000007            5.4       820"
      ]
     },
     "execution_count": 35,
     "metadata": {},
     "output_type": "execute_result"
    }
   ],
   "source": [
    "# save each file to a compressed csv file in data folder\n",
    "ratings.to_csv('Data/title_ratings.csv.gz', \n",
    "              compression = 'gzip', \n",
    "              index = False)\n",
    "\n",
    "# check\n",
    "ratings = pd.read_csv('Data/title_ratings.csv.gz',\n",
    "                    low_memory = False)\n",
    "\n",
    "ratings.head()"
   ]
  }
 ],
 "metadata": {
  "kernelspec": {
   "display_name": "Python 3 (ipykernel)",
   "language": "python",
   "name": "python3"
  },
  "language_info": {
   "codemirror_mode": {
    "name": "ipython",
    "version": 3
   },
   "file_extension": ".py",
   "mimetype": "text/x-python",
   "name": "python",
   "nbconvert_exporter": "python",
   "pygments_lexer": "ipython3",
   "version": "3.9.15"
  },
  "toc": {
   "base_numbering": 1,
   "nav_menu": {},
   "number_sections": false,
   "sideBar": true,
   "skip_h1_title": false,
   "title_cell": "Table of Contents",
   "title_sidebar": "Contents",
   "toc_cell": false,
   "toc_position": {},
   "toc_section_display": true,
   "toc_window_display": false
  }
 },
 "nbformat": 4,
 "nbformat_minor": 5
}
